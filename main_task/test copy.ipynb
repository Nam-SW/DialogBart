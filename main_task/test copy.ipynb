{
 "cells": [
  {
   "cell_type": "code",
   "execution_count": 1,
   "metadata": {
    "ExecuteTime": {
     "end_time": "2022-03-16T06:55:12.510142Z",
     "start_time": "2022-03-16T06:55:09.846560Z"
    }
   },
   "outputs": [],
   "source": [
    "from transformers import (\n",
    "    AutoTokenizer,\n",
    "    DataCollatorForLanguageModeling,\n",
    "    BartConfig,\n",
    "    BartForConditionalGeneration,\n",
    "    Trainer,\n",
    "    TrainingArguments,\n",
    ")\n",
    "tokenizer = AutoTokenizer.from_pretrained(\"/home/nsw0311/nas_storage/etc/DialogBPE\")"
   ]
  },
  {
   "cell_type": "code",
   "execution_count": 2,
   "metadata": {
    "ExecuteTime": {
     "end_time": "2022-03-16T06:55:22.451471Z",
     "start_time": "2022-03-16T06:55:12.511783Z"
    }
   },
   "outputs": [
    {
     "name": "stdout",
     "output_type": "stream",
     "text": [
      "Downloading and preparing dataset json/default to /home/nsw0311/.cache/huggingface/datasets/json/default-2596c13b89f18b30/0.0.0/ac0ca5f5289a6cf108e706efcf040422dbbfa8e658dee6a819f20d76bb84d26b...\n"
     ]
    },
    {
     "data": {
      "application/vnd.jupyter.widget-view+json": {
       "model_id": "a05369680bba42d1afa03ffac7f0465b",
       "version_major": 2,
       "version_minor": 0
      },
      "text/plain": [
       "  0%|          | 0/1 [00:00<?, ?it/s]"
      ]
     },
     "metadata": {},
     "output_type": "display_data"
    },
    {
     "data": {
      "application/vnd.jupyter.widget-view+json": {
       "model_id": "6aeb3a430f194eb0be525baef6fc7e57",
       "version_major": 2,
       "version_minor": 0
      },
      "text/plain": [
       "  0%|          | 0/1 [00:00<?, ?it/s]"
      ]
     },
     "metadata": {},
     "output_type": "display_data"
    },
    {
     "name": "stdout",
     "output_type": "stream",
     "text": [
      "Dataset json downloaded and prepared to /home/nsw0311/.cache/huggingface/datasets/json/default-2596c13b89f18b30/0.0.0/ac0ca5f5289a6cf108e706efcf040422dbbfa8e658dee6a819f20d76bb84d26b. Subsequent calls will reuse this data.\n"
     ]
    },
    {
     "data": {
      "application/vnd.jupyter.widget-view+json": {
       "model_id": "92d0de0865734bc9bf1f57471432e329",
       "version_major": 2,
       "version_minor": 0
      },
      "text/plain": [
       "  0%|          | 0/1 [00:00<?, ?it/s]"
      ]
     },
     "metadata": {},
     "output_type": "display_data"
    }
   ],
   "source": [
    "from dataloader import load\n",
    "\n",
    "config = {\n",
    "    \"train_data_path\": \"/home/nsw0311/nas_storage/datasets/RG/dialog_data.json\",\n",
    "    \"eval_data_path\": None,\n",
    "    \"train_test_split\": None,\n",
    "    \"worker\": 10,\n",
    "    \"batch_size\": 1000,\n",
    "    \"shuffle_seed\": None,\n",
    "    \"seq_len\": 512,\n",
    "}\n",
    "\n",
    "train_dataset, eval_dataset = load(\n",
    "    tokenizer=tokenizer, \n",
    "    **config\n",
    ")"
   ]
  },
  {
   "cell_type": "code",
   "execution_count": 11,
   "metadata": {},
   "outputs": [
    {
     "data": {
      "text/plain": [
       "'<bos><user0> ᄏᄏᄏᄏᄏᄏ 설치는 했어?<sep><user1> 아뉘...... 그거부터 막혔어......<sep><user0>...? 머ᅣᄋ 왜 설치부터 안돼...?<sep><user1> 그건 나도 몰라 ᄒᄒᄒᄒᄒᄒᄒᄒ<sep><user0> ᄏᄏᄏᄏᄏ 한번 봐와 ᅪ 봐 봐봐 cmd 캡쳐 ᄀᄀᄀ<sep><user1> 오키 사진 들어왓지<sep><user0> pip install seaborn<sep><user1> 저기다가 그냥 쳐,,?<sep><user0> 엉 cmd에다 걍 쳐<sep><user1> 사진?~???#..<sep><user0>? pip 를 conda로 바꿔봐<sep><user1> 오케<sep><user0> conda install seaborn<sep><user1> 사진 ᄒᄒ,,<sep><user0> 으아니 너 파이썬 어떻게 설치한거야 주피터 어케하고있음<sep><user1>?....<sep><user0> ᄆᄎ<sep><user1> 모루지 나야,,<sep><user0>...?<sep><user1> 설치하라는데로 햇는데........<sep><user0> 니 컴이야...<sep><user1> ᄏᄏᄏᄏᄏᄏᄏ 아니 난 설치하라는데로 똑같이 햇다구,,,<sep><user0> <unk><unk><unk> 언제 설치했는데? 너 예전에 전공동아리에서 파이썬 깔지 않았니<sep><user1> 이번에 다시깔앗을걸,,,?<sep><user0> 뭐로 깔았어? 아나콘다로 깔았어?<sep><user1> 웅 그럴걸<sep><user0> 그러면은<sep><user1> 쌤이 막 처음에 링크 올려줫자나<sep><user0> cmd 닫고<sep><user1> 웅<sep><user0> 사진 이거로 열어봐<sep><user1> 햇워<sep><user0> 그리고 아까 하라한거 pip install seaborn ᄀᄀᄀ<sep><user1> 사진 원래 이렇게 뜨니<sep><user0> 이미 깔ᄅ려있다는거같은데...? 그상태에서 python 입력하고 import seaborn as sns 해봐<sep><user1> 저기다가,????<sep><user0> 엉<sep><user1> 햇워<sep><user0> 캡쳐 꼬<sep><user1> 사진<sep><user0> 잘 깔려있는데?<sep><user1> 된거야???~?~? 뭐야 뭔데 왜 깔려잇는데<sep><user0> 진작에 돼있는데<sep><user1> 깔려잇으면서 지금 고생한거야? ᅲᅲᅲᅲᅲᅲᅲᅲᅲ<sep><user0> 뭐가 문제야<sep><user1> 너무 슬프다ᅲᅲᅲ<sep><user0> 아예 시작도 안한거였음..?<sep><user1> 내 1시간,,,,,,,<sep><user0>???<sep><user1> 난 맛간줄 알앗지....... ᄒᄒᄒᄒᄒ<sep><user0> 너 그 뭐야 노트북 파일 줘바 어디까지 했누<sep><user1>??????엥 아 나 인제 유튜브 영상보세여 그거 시작하는데 ᄏᄏᄏᄏᄏᄏᄏᄏᄏ<sep><user0>... 무ᅮ여 에러났다는줄 알었네...<sep><user1> 아냐,,,, 저기서 부터 그냥 엥 왜 안깔리지 하면서 진도를 안나가고잇엇는데 잘깔려잇네 슬프게 기뻐해야하는건가ᄏᄏᄏᄏᄏ<eos><pad><pad><pad><pad><pad><pad><pad><pad><pad><pad><pad><pad><pad><pad><pad><pad>'"
      ]
     },
     "execution_count": 11,
     "metadata": {},
     "output_type": "execute_result"
    }
   ],
   "source": [
    "tokenizer.decode(train_dataset[2132]['input_ids'])"
   ]
  },
  {
   "cell_type": "code",
   "execution_count": 14,
   "metadata": {},
   "outputs": [
    {
     "data": {
      "text/plain": [
       "'... 미친다 진짜 허헣 그냥 실행하시면 돼요 아니 내가 파일<eos><pad><pad><pad><pad><pad><pad><pad><pad><pad><pad><pad><pad><pad><pad><pad><pad><pad><pad><pad><pad><pad><pad><pad><pad><pad><pad><pad><pad><pad><pad><pad><pad><pad><pad><pad><pad><pad><pad><pad><pad><pad><pad><pad><pad><pad><pad><pad><pad><pad><pad><pad><pad><pad><pad><pad><pad><pad><pad><pad><pad><pad><pad><pad><pad><pad><pad><pad><pad><pad><pad><pad><pad><pad><pad><pad><pad><pad><pad><pad><pad><pad><pad><pad><pad><pad><pad><pad><pad><pad><pad><pad><pad><pad><pad><pad><pad><pad><pad><pad><pad><pad><pad><pad><pad><pad><pad><pad><pad><pad><pad><pad><pad><pad><pad><pad><pad><pad><pad><pad><pad><pad><pad><pad><pad><pad><pad><pad><pad><pad><pad><pad><pad><pad><pad><pad><pad><pad><pad><pad><pad><pad><pad><pad><pad><pad><pad><pad><pad><pad><pad><pad><pad><pad><pad><pad><pad><pad><pad><pad><pad><pad><pad><pad><pad><pad><pad><pad><pad><pad><pad><pad><pad><pad><pad><pad><pad><pad><pad><pad><pad><pad><pad><pad><pad><pad><pad><pad><pad><pad><pad><pad><pad><pad><pad><pad><pad><pad><pad><pad><pad><pad><pad><pad><pad><pad><pad><pad><pad><pad><pad><pad><pad><pad><pad><pad><pad><pad><pad><pad><pad><pad><pad><pad><pad><pad><pad><pad><pad><pad><pad><pad><pad><pad><pad><pad><pad><pad><pad><pad><pad><pad><pad><pad><pad><pad><pad><pad><pad><pad><pad><pad><pad><pad><pad><pad><pad><pad><pad><pad><pad><pad><pad><pad><pad><pad><pad><pad><pad><pad><pad><pad><pad><pad><pad><pad><pad><pad><pad><pad><pad><pad><pad><pad><pad><pad><pad><pad><pad><pad><pad><pad><pad><pad><pad><pad><pad><pad><pad><pad><pad><pad><pad><pad><pad><pad><pad><pad><pad><pad><pad><pad><pad><pad><pad><pad><pad><pad><pad><pad><pad><pad><pad><pad><pad><pad><pad><pad><pad><pad><pad><pad><pad><pad><pad><pad><pad><pad><pad><pad><pad><pad><pad><pad><pad><pad><pad><pad><pad><pad><pad><pad><pad><pad><pad><pad><pad><pad><pad><pad><pad><pad><pad><pad><pad><pad><pad><pad><pad><pad><pad><pad><pad><pad><pad><pad><pad><pad><pad><pad><pad><pad><pad><pad><pad><pad><pad><pad><pad><pad><pad><pad><pad><pad><pad><pad><pad><pad><pad><pad><pad><pad><pad><pad><pad><pad><pad><pad><pad><pad><pad><pad><pad><pad><pad><pad><pad><pad><pad><pad><pad><pad><pad><pad><pad><pad><pad><pad><pad><pad><pad><pad><pad><pad><pad><pad><pad><pad><pad><pad><pad><pad><pad><pad><pad><pad><pad><pad><pad><pad><pad><pad><pad><pad><pad><pad><pad><pad><pad><pad><pad><pad><pad><pad><pad><pad><pad><pad><pad><pad><pad><pad><pad><pad><pad><pad><pad><pad><pad><pad><pad><pad><pad><pad><pad><pad><pad><pad><pad><pad><pad><pad><pad><pad><pad><pad><pad>'"
      ]
     },
     "execution_count": 14,
     "metadata": {},
     "output_type": "execute_result"
    }
   ],
   "source": [
    "tokenizer.decode(train_dataset[2132]['labels'])"
   ]
  }
 ],
 "metadata": {
  "interpreter": {
   "hash": "bf4433abc8e752da9bbc01c74f7a97c74d3a41f419f8f50f7e9bcce58e5fc3eb"
  },
  "kernelspec": {
   "display_name": "Python 3 (ipykernel)",
   "language": "python",
   "name": "python3"
  },
  "language_info": {
   "codemirror_mode": {
    "name": "ipython",
    "version": 3
   },
   "file_extension": ".py",
   "mimetype": "text/x-python",
   "name": "python",
   "nbconvert_exporter": "python",
   "pygments_lexer": "ipython3",
   "version": "3.9.7"
  },
  "toc": {
   "base_numbering": 1,
   "nav_menu": {},
   "number_sections": true,
   "sideBar": true,
   "skip_h1_title": false,
   "title_cell": "Table of Contents",
   "title_sidebar": "Contents",
   "toc_cell": false,
   "toc_position": {
    "height": "calc(100% - 180px)",
    "left": "10px",
    "top": "150px",
    "width": "256.188px"
   },
   "toc_section_display": true,
   "toc_window_display": false
  }
 },
 "nbformat": 4,
 "nbformat_minor": 2
}
