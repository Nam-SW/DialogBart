{
 "cells": [
  {
   "cell_type": "code",
   "execution_count": 16,
   "metadata": {},
   "outputs": [],
   "source": [
    "import os\n",
    "\n",
    "import pandas as pd\n",
    "import numpy as np\n",
    "\n",
    "os.chdir(\"/home/nsw0311/nas_storage/datasets/RG\")"
   ]
  },
  {
   "cell_type": "code",
   "execution_count": 17,
   "metadata": {},
   "outputs": [],
   "source": [
    "data = pd.read_csv(\"NUP_kakaotalk.csv\", encoding='cp949')"
   ]
  },
  {
   "cell_type": "code",
   "execution_count": 18,
   "metadata": {},
   "outputs": [
    {
     "data": {
      "text/plain": [
       "array([ 9939, 16419])"
      ]
     },
     "execution_count": 18,
     "metadata": {},
     "output_type": "execute_result"
    }
   ],
   "source": [
    "split_idx = np.nonzero(data.talk_id.isna().to_list())[0][:2]\n",
    "split_idx"
   ]
  },
  {
   "cell_type": "code",
   "execution_count": 19,
   "metadata": {},
   "outputs": [
    {
     "name": "stdout",
     "output_type": "stream",
     "text": [
      "(9939, 6)\n",
      "(6479, 6)\n"
     ]
    }
   ],
   "source": [
    "df_list = []\n",
    "prev_idx = 0\n",
    "\n",
    "for idx in split_idx:\n",
    "    df = data.iloc[prev_idx: idx, :]\n",
    "    df_list.append(df)\n",
    "\n",
    "    print(df.shape)\n",
    "\n",
    "    prev_idx = idx + 1"
   ]
  },
  {
   "cell_type": "code",
   "execution_count": 23,
   "metadata": {},
   "outputs": [
    {
     "name": "stdout",
     "output_type": "stream",
     "text": [
      "178.0 9761 0.017909246403058656\n",
      "191.0 6288 0.029479858002778206\n"
     ]
    }
   ],
   "source": [
    "for df in df_list:\n",
    "    neg_size = df['new_subject'].isna().sum()\n",
    "    pos_size = df['new_subject'].sum()\n",
    "    print(pos_size, neg_size, pos_size / len(df))"
   ]
  },
  {
   "cell_type": "code",
   "execution_count": 24,
   "metadata": {},
   "outputs": [
    {
     "name": "stdout",
     "output_type": "stream",
     "text": [
      "71.0 9868 0.007143575812455981\n",
      "100.0 6379 0.01543448062972681\n"
     ]
    }
   ],
   "source": [
    "for df in df_list:\n",
    "    neg_size = df['connect'].isna().sum()\n",
    "    pos_size = df['connect'].sum()\n",
    "    print(pos_size, neg_size, pos_size / len(df))"
   ]
  },
  {
   "cell_type": "code",
   "execution_count": 22,
   "metadata": {},
   "outputs": [
    {
     "data": {
      "text/plain": [
       "array([nan,  1.])"
      ]
     },
     "execution_count": 22,
     "metadata": {},
     "output_type": "execute_result"
    }
   ],
   "source": [
    "df.connect.unique()"
   ]
  }
 ],
 "metadata": {
  "interpreter": {
   "hash": "bf4433abc8e752da9bbc01c74f7a97c74d3a41f419f8f50f7e9bcce58e5fc3eb"
  },
  "kernelspec": {
   "display_name": "Python 3.9.7 64-bit ('main')",
   "language": "python",
   "name": "python3"
  },
  "language_info": {
   "codemirror_mode": {
    "name": "ipython",
    "version": 3
   },
   "file_extension": ".py",
   "mimetype": "text/x-python",
   "name": "python",
   "nbconvert_exporter": "python",
   "pygments_lexer": "ipython3",
   "version": "3.9.7"
  },
  "orig_nbformat": 4
 },
 "nbformat": 4,
 "nbformat_minor": 2
}
